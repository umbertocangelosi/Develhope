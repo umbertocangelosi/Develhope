{
 "cells": [
  {
   "cell_type": "code",
   "execution_count": 56,
   "id": "9665b318",
   "metadata": {},
   "outputs": [],
   "source": [
    "import numpy as np\n",
    "import pandas as pd\n",
    "import scipy as sy\n"
   ]
  },
  {
   "cell_type": "markdown",
   "id": "c68763a3",
   "metadata": {},
   "source": [
    "1. Let `x` and `y` be two vectors of the same length, $n$.\n",
    "Compute [the Pearson linear correlation coefficient](https://en.wikipedia.org/wiki/Pearson_correlation_coefficient),\n",
    "given by:\n",
    "$$\n",
    "r(\\mathbf{x},\\mathbf{y}) =  \\frac{1}{n-1} \\sum_{i=1}^n\n",
    "   \\frac{x_i - \\bar{x}}{s_{x}}\n",
    "\\,\n",
    "   \\frac{y_i - \\bar{y}}{s_{y}}.\n",
    "$$\n",
    "\n",
    "\n",
    "2. Let `x` and `y` be two vectors of the same length, $n$.\n",
    "Compute [the Spearman rank correlation coefficient](https://en.wikipedia.org/wiki/Spearman%27s_rank_correlation_coefficient),\n",
    "given by:\n",
    "$$\n",
    "\\varrho(\\mathbf{x},\\mathbf{y})\n",
    "=\n",
    "1-\\frac{6 \\sum_{i=1}^n d_i^2}{n (n^2-1)},\n",
    "$$\n",
    "where $d_i=R(\\mathbf{x})_i-R(\\mathbf{y})_i$, $i=1,\\dots,n$,\n",
    "and $R(\\mathbf{x})_i$ denotes the rank of $x_i$ in `x`.\n",
    "\n",
    "3. Given a matrix with $n$ rows and $m$ columns (e.g., the first 4 rows\n",
    "from the `iris` dataset), compute the correlation matrix, i.e.,\n",
    "an $m\\times m$ matrix $\\mathbf{C}$ with $c_{i,j}$ denoting\n",
    "the Pearson coefficient for the $i$-th and the $j$-th column."
   ]
  },
  {
   "cell_type": "code",
   "execution_count": 57,
   "id": "3c6d4c92",
   "metadata": {},
   "outputs": [
    {
     "name": "stdout",
     "output_type": "stream",
     "text": [
      "0.004829097402467249\n"
     ]
    },
    {
     "data": {
      "text/plain": [
       "array([[1.       , 0.0048291],\n",
       "       [0.0048291, 1.       ]])"
      ]
     },
     "execution_count": 57,
     "metadata": {},
     "output_type": "execute_result"
    }
   ],
   "source": [
    "#exercise_1\n",
    "\n",
    "def z_score(arr): \n",
    "    return ((arr-np.mean(arr)))/np.std(arr)\n",
    "\n",
    "def pearson_correlation(arr1,arr2):\n",
    "    return np.mean((z_score(arr1))*(z_score(arr2)))\n",
    "                       \n",
    "#test\n",
    "array1 = np.array([1,2,3,4,3,6])\n",
    "array2 = np.array([7,8,88,10,11,12])\n",
    "\n",
    "print(pearson_correlation(array1,array2))\n",
    "\n",
    "#if I want to solve the exercise_1 using the direct command:\n",
    "np.corrcoef(array1,array2)"
   ]
  },
  {
   "cell_type": "code",
   "execution_count": 58,
   "id": "d6e84be3",
   "metadata": {},
   "outputs": [
    {
     "name": "stdout",
     "output_type": "stream",
     "text": [
      "1.0\n"
     ]
    },
    {
     "data": {
      "text/plain": [
       "1.0"
      ]
     },
     "execution_count": 58,
     "metadata": {},
     "output_type": "execute_result"
    }
   ],
   "source": [
    "#exercise_2\n",
    "\n",
    "def d(arr1,arr2):\n",
    "    return np.sum(((arr1.argsort()-arr2.argsort())**2))\n",
    "\n",
    "def spearman_correlation(arr1,arr2):\n",
    "    return 1-((6*d(arr1,arr2))/((len(arr1)*((len(arr1)**2)-1))))\n",
    " \n",
    "#test    \n",
    "array1 = np.array([1,2,3,4,5,6])\n",
    "array2 = np.array([7,8,9,10,11,12])    \n",
    "\n",
    "print(spearman_correlation(array1,array2))  \n",
    "\n",
    "#if I want to solve the exercise_2 using the direct command:\n",
    "pd.Series(array1).corr(pd.Series(array2))"
   ]
  },
  {
   "cell_type": "code",
   "execution_count": 59,
   "id": "14dfc9e5",
   "metadata": {},
   "outputs": [
    {
     "name": "stdout",
     "output_type": "stream",
     "text": [
      "[[ 0.35480861  1.81259031 -1.3564758 ]\n",
      " [-0.46363197  0.82465384 -1.17643148]\n",
      " [ 1.56448966  0.71270509 -0.1810066 ]\n",
      " [ 0.53419953 -0.58661296 -1.48185327]\n",
      " [ 0.85724762  0.94309899  0.11444143]]\n",
      "Correlation matrix:\n",
      "[[ 1.         -0.09417611  0.653226  ]\n",
      " [-0.09417611  1.          0.17696048]\n",
      " [ 0.653226    0.17696048  1.        ]]\n",
      "[[ 1.         -0.09417611  0.653226  ]\n",
      " [-0.09417611  1.          0.17696048]\n",
      " [ 0.653226    0.17696048  1.        ]]\n"
     ]
    }
   ],
   "source": [
    "#exercise_3\n",
    "\n",
    "data = np.random.randn(5, 3)\n",
    "print(data)\n",
    "\n",
    "mean = np.mean(data, axis=0)\n",
    "centered = data - mean\n",
    "covariance = np.dot(centered.T, centered) / (len(data) - 1)\n",
    "stddev = np.sqrt(np.diag(covariance))\n",
    "correlation = covariance / np.outer(stddev, stddev)\n",
    "\n",
    "\n",
    "print(\"Correlation matrix:\")\n",
    "print(correlation)\n",
    "\n",
    "#if I want to solve the exercise_2 using the direct command:\n",
    "print(np.corrcoef(data, rowvar=False))\n"
   ]
  },
  {
   "cell_type": "markdown",
   "id": "0d4e4b4a",
   "metadata": {},
   "source": []
  },
  {
   "cell_type": "code",
   "execution_count": 60,
   "id": "fad2965e",
   "metadata": {},
   "outputs": [
    {
     "data": {
      "text/plain": [
       "array([-0.31,  0.73,  0.22, -0.9 , -2.49,  0.91,  1.13, -1.51,  1.64,\n",
       "       -0.43,  2.63,  0.6 , -0.34,  1.24,  0.11,  0.13,  0.08, -0.16,\n",
       "        0.63,  0.81])"
      ]
     },
     "execution_count": 60,
     "metadata": {},
     "output_type": "execute_result"
    }
   ],
   "source": [
    "np.random.seed(6)\n",
    "x = np.round(np.random.normal(size=20), 2)\n",
    "x \n",
    "\n"
   ]
  },
  {
   "cell_type": "markdown",
   "id": "2807483d",
   "metadata": {},
   "source": [
    "* Print all values in $[-2,-1]\\cup[1,2]$.\n",
    "* Print the number and the proportion of nonnegative elements in `x`.\n",
    "* Compute the arithmetic mean of absolute values.\n",
    "* Determine elements in `x` which are the least and the most distant from 0.\n",
    "* Determine 3 elements in `x` which are the most distant from the arithmetic mean of `x`.\n",
    "* Create a vector `x2`, which is a version of `x` with all outliers removed,\n",
    "i.e., all observations $x_i$ such that $x_i\\not\\in[Q_1-1.5IQR, Q_3+1.5IQR]$,\n",
    "where $IQR=Q_3-Q_1$ denotes the interquartile range and $Q_1$ and $Q_3$\n",
    "denote the 1st and 3rd sample quartiles, respectively.\n",
    "* Create a vector `x2`, which is a version of `x` with all outliers removed,\n",
    "i.e., all observations $x_i$ such that $x_i\\not\\in[Q_1-1.5IQR, Q_3+1.5IQR]$,\n",
    "where $IQR=Q_3-Q_1$ denotes the interquartile range and $Q_1$ and $Q_3$\n",
    "denote the 1st and 3rd sample quartiles, respectively."
   ]
  },
  {
   "cell_type": "code",
   "execution_count": 61,
   "id": "c528a77e",
   "metadata": {},
   "outputs": [
    {
     "data": {
      "text/plain": [
       "array([ 1.13, -1.51,  1.64,  1.24])"
      ]
     },
     "execution_count": 61,
     "metadata": {},
     "output_type": "execute_result"
    }
   ],
   "source": [
    "#1\n",
    "x[((x>-2) & (x<-1)) | ((x>1) & (x<2))]\n"
   ]
  },
  {
   "cell_type": "code",
   "execution_count": 55,
   "id": "3f59347d",
   "metadata": {},
   "outputs": [
    {
     "name": "stdout",
     "output_type": "stream",
     "text": [
      "[-0.31  0.73  0.22 -0.9  -2.49  0.91  1.13 -1.51  1.64 -0.43  2.63  0.6\n",
      " -0.34  1.24  0.11  0.13  0.08 -0.16  0.63  0.81]\n",
      "0.35\n"
     ]
    }
   ],
   "source": [
    "#2\n",
    "print(x)\n",
    "\n",
    "print((len(x[x<0])/len(x)))"
   ]
  },
  {
   "cell_type": "code",
   "execution_count": null,
   "id": "c9c3a0df",
   "metadata": {},
   "outputs": [],
   "source": [
    "#3\n"
   ]
  }
 ],
 "metadata": {
  "kernelspec": {
   "display_name": "Python 3 (ipykernel)",
   "language": "python",
   "name": "python3"
  },
  "language_info": {
   "codemirror_mode": {
    "name": "ipython",
    "version": 3
   },
   "file_extension": ".py",
   "mimetype": "text/x-python",
   "name": "python",
   "nbconvert_exporter": "python",
   "pygments_lexer": "ipython3",
   "version": "3.11.1"
  }
 },
 "nbformat": 4,
 "nbformat_minor": 5
}
